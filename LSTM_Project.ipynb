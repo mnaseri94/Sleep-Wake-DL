{
  "cells": [
    {
      "cell_type": "markdown",
      "metadata": {
        "id": "view-in-github",
        "colab_type": "text"
      },
      "source": [
        "<a href=\"https://colab.research.google.com/github/mnaseri94/Sleep-Wake-DL/blob/main/LSTM_Project.ipynb\" target=\"_parent\"><img src=\"https://colab.research.google.com/assets/colab-badge.svg\" alt=\"Open In Colab\"/></a>"
      ]
    },
    {
      "cell_type": "markdown",
      "source": [
        "# **Google Drive**"
      ],
      "metadata": {
        "id": "nCNvRRvleK7O"
      },
      "id": "nCNvRRvleK7O"
    },
    {
      "cell_type": "code",
      "source": [
        "from google.colab import drive\n",
        "drive.mount('/content/drive')"
      ],
      "metadata": {
        "id": "oGUpfIXAeT8Z"
      },
      "id": "oGUpfIXAeT8Z",
      "execution_count": null,
      "outputs": []
    },
    {
      "cell_type": "markdown",
      "source": [
        "# **GPU**"
      ],
      "metadata": {
        "id": "_YMIFlk4eeui"
      },
      "id": "_YMIFlk4eeui"
    },
    {
      "cell_type": "code",
      "source": [
        "!nvidia-smi"
      ],
      "metadata": {
        "id": "JRD27h-Beyh4"
      },
      "id": "JRD27h-Beyh4",
      "execution_count": null,
      "outputs": []
    },
    {
      "cell_type": "markdown",
      "source": [
        "# **install**"
      ],
      "metadata": {
        "id": "8gmKwX2CfLDp"
      },
      "id": "8gmKwX2CfLDp"
    },
    {
      "cell_type": "code",
      "source": [
        "!pip install torchmetrics"
      ],
      "metadata": {
        "id": "ak770tXmfRzR"
      },
      "id": "ak770tXmfRzR",
      "execution_count": null,
      "outputs": []
    },
    {
      "cell_type": "markdown",
      "source": [
        "# **Imports 📢**"
      ],
      "metadata": {
        "id": "VT4UlCjRfec0"
      },
      "id": "VT4UlCjRfec0"
    },
    {
      "cell_type": "code",
      "source": [
        "import seaborn as sns\n",
        "import matplotlib.pyplot as plt\n",
        "import numpy as np\n",
        "import pandas as pd\n",
        "from sklearn.model_selection import train_test_split\n",
        "from sklearn.preprocessing import LabelEncoder\n",
        "import warnings\n",
        "warnings.filterwarnings('ignore')\n",
        "\n",
        "import torch\n",
        "import torch.nn as nn\n",
        "import torch.optim as optim\n",
        "import torch.nn.functional as F\n",
        "from torch.utils.data import TensorDataset, DataLoader, random_split\n",
        "\n",
        "import torchvision\n",
        "from torchvision import transforms as T\n",
        "\n",
        "from torchmetrics import Accuracy\n",
        "from tqdm import tqdm"
      ],
      "metadata": {
        "id": "6X1ohWv9eFpK"
      },
      "id": "6X1ohWv9eFpK",
      "execution_count": null,
      "outputs": []
    },
    {
      "cell_type": "markdown",
      "source": [
        "# **Dataset 🗂️**"
      ],
      "metadata": {
        "id": "BXnBrRzefqYX"
      },
      "id": "BXnBrRzefqYX"
    },
    {
      "cell_type": "code",
      "source": [
        "cd /content/drive/MyDrive/Deep-learning-howsam/RNN"
      ],
      "metadata": {
        "id": "-OqrRPFcf1Yq"
      },
      "id": "-OqrRPFcf1Yq",
      "execution_count": null,
      "outputs": []
    },
    {
      "cell_type": "code",
      "execution_count": null,
      "id": "95513d31-9b1a-4288-a699-763d6dfcedb3",
      "metadata": {
        "tags": [],
        "id": "95513d31-9b1a-4288-a699-763d6dfcedb3"
      },
      "outputs": [],
      "source": [
        "data = pd.read_csv('train-2.csv' ,  header=None , sep=',')"
      ]
    },
    {
      "cell_type": "code",
      "execution_count": null,
      "id": "5434438b-3658-446a-8f49-19882343ff2a",
      "metadata": {
        "id": "5434438b-3658-446a-8f49-19882343ff2a"
      },
      "outputs": [],
      "source": [
        "data = data.rename(columns={0:'date' , 1:'time' , 2:'sensor' , 3:'key' , 4:'activity' , 5:'start_end_activity'})"
      ]
    },
    {
      "cell_type": "code",
      "execution_count": null,
      "id": "88e734fc-9263-4904-8f04-2d929b6d06c6",
      "metadata": {
        "id": "88e734fc-9263-4904-8f04-2d929b6d06c6"
      },
      "outputs": [],
      "source": [
        "data.head()"
      ]
    },
    {
      "cell_type": "markdown",
      "id": "5bfbd298-34ff-43ad-a696-a853b9189523",
      "metadata": {
        "id": "5bfbd298-34ff-43ad-a696-a853b9189523"
      },
      "source": [
        "### **Unique Values of 'start_end_activity' feature**"
      ]
    },
    {
      "cell_type": "code",
      "execution_count": null,
      "id": "67db653e-416e-418a-8a71-18dd4a35cb3e",
      "metadata": {
        "id": "67db653e-416e-418a-8a71-18dd4a35cb3e"
      },
      "outputs": [],
      "source": [
        "data['start_end_activity'].unique()"
      ]
    },
    {
      "cell_type": "markdown",
      "id": "e0eeec60-8d0b-484f-8291-04c9a9b6c740",
      "metadata": {
        "id": "e0eeec60-8d0b-484f-8291-04c9a9b6c740"
      },
      "source": [
        "### **fill NaN Values with ffill method**"
      ]
    },
    {
      "cell_type": "code",
      "execution_count": null,
      "id": "1c1a2d76-0506-4708-91bd-6287dbf846a2",
      "metadata": {
        "id": "1c1a2d76-0506-4708-91bd-6287dbf846a2"
      },
      "outputs": [],
      "source": [
        "data.isnull().sum()"
      ]
    },
    {
      "cell_type": "code",
      "execution_count": null,
      "id": "db86b083-c99e-4695-9266-cd4c77b035dc",
      "metadata": {
        "id": "db86b083-c99e-4695-9266-cd4c77b035dc"
      },
      "outputs": [],
      "source": [
        "data['activity'].fillna(method='ffill' , inplace=True)"
      ]
    },
    {
      "cell_type": "code",
      "execution_count": null,
      "id": "b4dd1d09-e31b-47e8-b72a-41864d41db30",
      "metadata": {
        "id": "b4dd1d09-e31b-47e8-b72a-41864d41db30"
      },
      "outputs": [],
      "source": [
        "data['start_end_activity'].fillna(method='ffill' , inplace=True)"
      ]
    },
    {
      "cell_type": "markdown",
      "source": [
        "### **Create another class to represent other activities ✔**"
      ],
      "metadata": {
        "id": "_N0PRX19gnvB"
      },
      "id": "_N0PRX19gnvB"
    },
    {
      "cell_type": "code",
      "execution_count": null,
      "id": "eccd210b-fcf3-4d89-a24d-35778504c6d5",
      "metadata": {
        "id": "eccd210b-fcf3-4d89-a24d-35778504c6d5"
      },
      "outputs": [],
      "source": [
        "flags = data['start_end_activity'] == 'end'"
      ]
    },
    {
      "cell_type": "code",
      "execution_count": null,
      "id": "ad00ae35-c365-45c0-8dfb-c584ec2b67b2",
      "metadata": {
        "id": "ad00ae35-c365-45c0-8dfb-c584ec2b67b2"
      },
      "outputs": [],
      "source": [
        "data['activity'][flags] = 0"
      ]
    },
    {
      "cell_type": "code",
      "execution_count": null,
      "id": "189cb0e0-8a3b-418b-b2c7-a39131c5823c",
      "metadata": {
        "id": "189cb0e0-8a3b-418b-b2c7-a39131c5823c"
      },
      "outputs": [],
      "source": [
        "indices = []\n",
        "activitis = []\n",
        "\n",
        "for i in range(1 , len(data['activity'])):\n",
        "\n",
        "    if data['activity'][i] == 0 and data['activity'][i-1] != 0:\n",
        "\n",
        "        indices.append(i)\n",
        "        activitis.append(data['activity'][i-1])"
      ]
    },
    {
      "cell_type": "code",
      "execution_count": null,
      "id": "357dbeef-6e7a-4747-8c6a-52308c01e836",
      "metadata": {
        "id": "357dbeef-6e7a-4747-8c6a-52308c01e836"
      },
      "outputs": [],
      "source": [
        "for idx , act in zip(indices,activitis):\n",
        "    data['activity'][idx] = act"
      ]
    },
    {
      "cell_type": "code",
      "execution_count": null,
      "id": "17213f3f-7517-4d73-bcde-71bc1e91c447",
      "metadata": {
        "id": "17213f3f-7517-4d73-bcde-71bc1e91c447"
      },
      "outputs": [],
      "source": [
        "# Now we dont need this feature enymore\n",
        "data.drop('start_end_activity' , axis=1 , inplace=True)"
      ]
    },
    {
      "cell_type": "code",
      "execution_count": null,
      "id": "f9a59827-9d94-4e91-808e-ae1f386825fb",
      "metadata": {
        "id": "f9a59827-9d94-4e91-808e-ae1f386825fb"
      },
      "outputs": [],
      "source": [
        "# we want replace int value 0 to str 0\n",
        "flags = data['activity'] == 0"
      ]
    },
    {
      "cell_type": "code",
      "execution_count": null,
      "id": "99787554-811e-4da5-ac50-90dc84d1a3f7",
      "metadata": {
        "id": "99787554-811e-4da5-ac50-90dc84d1a3f7"
      },
      "outputs": [],
      "source": [
        "data['activity'][flags] = '0'"
      ]
    },
    {
      "cell_type": "markdown",
      "source": [
        "### **Now Save Dataset 📚**"
      ],
      "metadata": {
        "id": "ePLCG3IJhgX6"
      },
      "id": "ePLCG3IJhgX6"
    },
    {
      "cell_type": "code",
      "execution_count": null,
      "id": "ca0a1dc7-bd8c-4a98-a8c3-c0c4fccacdb3",
      "metadata": {
        "id": "ca0a1dc7-bd8c-4a98-a8c3-c0c4fccacdb3"
      },
      "outputs": [],
      "source": [
        "data.to_csv('dataset.csv' , index=False)"
      ]
    },
    {
      "cell_type": "markdown",
      "id": "625043f0-3392-44f1-b8fb-79a6c9bb5cc6",
      "metadata": {
        "id": "625043f0-3392-44f1-b8fb-79a6c9bb5cc6"
      },
      "source": [
        "### **Check Missing Values ✅**"
      ]
    },
    {
      "cell_type": "code",
      "execution_count": null,
      "id": "dcbdc86f-a360-4d09-ae27-b520871fb4e9",
      "metadata": {
        "id": "dcbdc86f-a360-4d09-ae27-b520871fb4e9"
      },
      "outputs": [],
      "source": [
        "data.isnull().sum()"
      ]
    },
    {
      "cell_type": "code",
      "execution_count": null,
      "id": "e03e839f-b981-452d-910a-8a4d9387c0fd",
      "metadata": {
        "id": "e03e839f-b981-452d-910a-8a4d9387c0fd"
      },
      "outputs": [],
      "source": [
        "plt.figure(figsize=(10 , 4))\n",
        "sns.barplot(data = data ,\n",
        "            x=data['activity'].value_counts().index ,\n",
        "            y=data['activity'].value_counts().values,\n",
        "            );\n",
        "plt.xticks(rotation = 90);"
      ]
    },
    {
      "cell_type": "markdown",
      "source": [
        "### **Some Preprocess and Visualization on Data 📊**"
      ],
      "metadata": {
        "id": "nG_J30ieiYeY"
      },
      "id": "nG_J30ieiYeY"
    },
    {
      "cell_type": "code",
      "execution_count": null,
      "id": "6b7a749e-8098-4264-be28-4159258c015a",
      "metadata": {
        "id": "6b7a749e-8098-4264-be28-4159258c015a"
      },
      "outputs": [],
      "source": [
        "data2 = data.copy()"
      ]
    },
    {
      "cell_type": "code",
      "execution_count": null,
      "id": "16a78756-d639-42e8-ae46-c760345f5998",
      "metadata": {
        "id": "16a78756-d639-42e8-ae46-c760345f5998"
      },
      "outputs": [],
      "source": [
        "le = LabelEncoder()"
      ]
    },
    {
      "cell_type": "code",
      "execution_count": null,
      "id": "f97fc75c-df1b-427d-a228-4b10137b8515",
      "metadata": {
        "id": "f97fc75c-df1b-427d-a228-4b10137b8515"
      },
      "outputs": [],
      "source": [
        "data2['activity'] = le.fit_transform(data2['activity'])"
      ]
    },
    {
      "cell_type": "code",
      "execution_count": null,
      "id": "381c768b-5f05-4cc1-b109-b400a4b3a730",
      "metadata": {
        "id": "381c768b-5f05-4cc1-b109-b400a4b3a730"
      },
      "outputs": [],
      "source": [
        "plt.figure(figsize=(10 , 4))\n",
        "sns.barplot(data = data2 ,\n",
        "            x=data2['activity'].value_counts().index ,\n",
        "            y=data2['activity'].value_counts().values,\n",
        "            );\n",
        "plt.xticks(rotation = 90);"
      ]
    },
    {
      "cell_type": "code",
      "execution_count": null,
      "id": "d5da31ba-1773-4b1a-944f-de5864061a89",
      "metadata": {
        "id": "d5da31ba-1773-4b1a-944f-de5864061a89"
      },
      "outputs": [],
      "source": [
        "le.classes_"
      ]
    },
    {
      "cell_type": "markdown",
      "id": "3a4f8cdd-915e-42cc-abb0-bfb5dc21043d",
      "metadata": {
        "id": "3a4f8cdd-915e-42cc-abb0-bfb5dc21043d"
      },
      "source": [
        "### **Split data based on Sensors**"
      ]
    },
    {
      "cell_type": "code",
      "execution_count": null,
      "id": "1634ca1e-670e-4cdd-9eec-2cec12b87a8e",
      "metadata": {
        "id": "1634ca1e-670e-4cdd-9eec-2cec12b87a8e"
      },
      "outputs": [],
      "source": [
        "df_Motion = data2.loc[data2['sensor'].str.startswith('M')]"
      ]
    },
    {
      "cell_type": "code",
      "execution_count": null,
      "id": "4bd3a16a-362a-46e9-ab86-adbf5fd1d182",
      "metadata": {
        "id": "4bd3a16a-362a-46e9-ab86-adbf5fd1d182"
      },
      "outputs": [],
      "source": [
        "df_Motion.shape"
      ]
    },
    {
      "cell_type": "code",
      "execution_count": null,
      "id": "ade3bb76-3f9b-42c4-93ea-4c9e127bccde",
      "metadata": {
        "id": "ade3bb76-3f9b-42c4-93ea-4c9e127bccde"
      },
      "outputs": [],
      "source": [
        "plt.figure(figsize=(12 , 4));\n",
        "\n",
        "df_Motion_one_day = df_Motion[df_Motion['date'] == '2009-10-16']\n",
        "plt.plot(df_Motion_one_day['time'] , df_Motion_one_day['sensor'] , color='blue');\n",
        "plt.xticks([]);\n",
        "plt.title('2009-10-16');"
      ]
    },
    {
      "cell_type": "code",
      "execution_count": null,
      "id": "3b210950-44f6-48a9-92e7-afb279b739b8",
      "metadata": {
        "id": "3b210950-44f6-48a9-92e7-afb279b739b8"
      },
      "outputs": [],
      "source": [
        "plt.figure(figsize=(12 , 4));\n",
        "\n",
        "df_Motion_one_day = df_Motion[df_Motion['date'] == '2009-10-17']\n",
        "plt.plot(df_Motion_one_day['time'] , df_Motion_one_day['sensor'] , color='red');\n",
        "plt.xticks([]);\n",
        "plt.title('2009-10-17');"
      ]
    },
    {
      "cell_type": "code",
      "execution_count": null,
      "id": "5c854dc2-1a93-4f20-8da7-96386d83b885",
      "metadata": {
        "id": "5c854dc2-1a93-4f20-8da7-96386d83b885"
      },
      "outputs": [],
      "source": [
        "plt.figure(figsize=(12 , 4));\n",
        "\n",
        "df_Motion_one_day = df_Motion[df_Motion['date'] == '2009-10-18']\n",
        "plt.plot(df_Motion_one_day['time'] , df_Motion_one_day['sensor'] , color='green');\n",
        "plt.xticks([]);\n",
        "plt.title('2009-10-18');"
      ]
    },
    {
      "cell_type": "code",
      "execution_count": null,
      "id": "6c9cc384-cf13-4479-9e39-9d2eb9d456e6",
      "metadata": {
        "id": "6c9cc384-cf13-4479-9e39-9d2eb9d456e6"
      },
      "outputs": [],
      "source": [
        "df_temp = data2.loc[data2['sensor'].str.startswith('T')]"
      ]
    },
    {
      "cell_type": "code",
      "execution_count": null,
      "id": "a0ca0080-d0f5-4fdf-aac2-90ab6eefa9b7",
      "metadata": {
        "id": "a0ca0080-d0f5-4fdf-aac2-90ab6eefa9b7"
      },
      "outputs": [],
      "source": [
        "df_temp.shape"
      ]
    },
    {
      "cell_type": "code",
      "execution_count": null,
      "id": "18d9c50d-e4b2-4f31-b054-f5022b75f276",
      "metadata": {
        "id": "18d9c50d-e4b2-4f31-b054-f5022b75f276"
      },
      "outputs": [],
      "source": [
        "plt.figure(figsize=(12 , 4));\n",
        "\n",
        "df_temp_one_day1 = df_temp[df_temp['date'] == '2009-10-16']\n",
        "df_temp_one_day2 = df_temp[df_temp['date'] == '2009-10-17']\n",
        "df_temp_one_day3 = df_temp[df_temp['date'] == '2009-10-18']\n",
        "\n",
        "plt.plot(df_temp_one_day1['time'] , df_temp_one_day1['key'] , color='blue' , label='2009-10-16');\n",
        "plt.plot(df_temp_one_day2['time'] , df_temp_one_day2['key'] , color='red' , label='2009-10-17');\n",
        "plt.plot(df_temp_one_day3['time'] , df_temp_one_day3['key'] , color='green' , label='2009-10-18');\n",
        "plt.legend()\n",
        "plt.xticks([]);"
      ]
    },
    {
      "cell_type": "code",
      "execution_count": null,
      "id": "782388f0-e7d1-4c6d-8474-83b803f20c83",
      "metadata": {
        "id": "782388f0-e7d1-4c6d-8474-83b803f20c83"
      },
      "outputs": [],
      "source": [
        "df_door = data2.loc[data2['sensor'].str.startswith('D')]"
      ]
    },
    {
      "cell_type": "code",
      "execution_count": null,
      "id": "0c6cbdd2-26b5-40cc-9592-882bc203e548",
      "metadata": {
        "id": "0c6cbdd2-26b5-40cc-9592-882bc203e548"
      },
      "outputs": [],
      "source": [
        "df_door.shape"
      ]
    },
    {
      "cell_type": "code",
      "execution_count": null,
      "id": "19fd45b0-204a-44d7-9aaf-020ce3778f8b",
      "metadata": {
        "id": "19fd45b0-204a-44d7-9aaf-020ce3778f8b"
      },
      "outputs": [],
      "source": [
        "plt.figure(figsize=(12 , 4));\n",
        "\n",
        "df_temp_one_day1 = df_door[df_door['date'] == '2009-10-16']\n",
        "df_temp_one_day2 = df_door[df_door['date'] == '2009-10-17']\n",
        "df_temp_one_day3 = df_door[df_door['date'] == '2009-10-18']\n",
        "\n",
        "plt.plot(df_temp_one_day1['time'] , df_temp_one_day1['sensor'] , color='blue' , label='2009-10-16');\n",
        "plt.plot(df_temp_one_day2['time'] , df_temp_one_day2['sensor'] , color='red' , label='2009-10-17');\n",
        "plt.plot(df_temp_one_day3['time'] , df_temp_one_day3['sensor'] , color='green' , label='2009-10-18');\n",
        "plt.legend()\n",
        "plt.xticks([]);"
      ]
    },
    {
      "cell_type": "markdown",
      "id": "ad346cab-574c-4807-aa12-1607d55ed639",
      "metadata": {
        "id": "ad346cab-574c-4807-aa12-1607d55ed639"
      },
      "source": [
        "### **Encode Features**"
      ]
    },
    {
      "cell_type": "code",
      "execution_count": null,
      "id": "e7f4f10a-acb8-4aa6-83fd-16b3e795edfe",
      "metadata": {
        "id": "e7f4f10a-acb8-4aa6-83fd-16b3e795edfe"
      },
      "outputs": [],
      "source": [
        "unvalid_keys = ['ON`','ON0','O']\n",
        "indices = []\n",
        "for key in unvalid_keys:\n",
        "    idx = df_Motion[df_Motion['key'] == key].index.item()\n",
        "    indices.append(idx)"
      ]
    },
    {
      "cell_type": "code",
      "execution_count": null,
      "id": "7140af54-b960-457c-a5a3-25ed416f22ab",
      "metadata": {
        "id": "7140af54-b960-457c-a5a3-25ed416f22ab"
      },
      "outputs": [],
      "source": [
        "df_Motion['key'][indices] = 'ON'"
      ]
    },
    {
      "cell_type": "code",
      "execution_count": null,
      "id": "0887180c-a529-4309-baac-534000d2a2ae",
      "metadata": {
        "id": "0887180c-a529-4309-baac-534000d2a2ae"
      },
      "outputs": [],
      "source": [
        "le_key = LabelEncoder()\n",
        "df_Motion['key'] = le_key.fit_transform(df_Motion['key'])"
      ]
    },
    {
      "cell_type": "code",
      "execution_count": null,
      "id": "05f4e055-8a96-4a76-ab6b-22fb5d96e7ad",
      "metadata": {
        "id": "05f4e055-8a96-4a76-ab6b-22fb5d96e7ad"
      },
      "outputs": [],
      "source": [
        "le_sensor = LabelEncoder()\n",
        "df_Motion['sensor'] = le_sensor.fit_transform(df_Motion['sensor'])"
      ]
    },
    {
      "cell_type": "code",
      "execution_count": null,
      "id": "a5e8070a-280d-4eb3-8a60-aa96fb469b0b",
      "metadata": {
        "id": "a5e8070a-280d-4eb3-8a60-aa96fb469b0b"
      },
      "outputs": [],
      "source": [
        "le_sensor.classes_"
      ]
    },
    {
      "cell_type": "code",
      "execution_count": null,
      "id": "0aa9312c-4b28-46fd-95de-0f538f2ea738",
      "metadata": {
        "id": "0aa9312c-4b28-46fd-95de-0f538f2ea738"
      },
      "outputs": [],
      "source": [
        "le_key.classes_"
      ]
    },
    {
      "cell_type": "markdown",
      "id": "d71663b9-3b91-48c5-8257-ddf6792be41f",
      "metadata": {
        "id": "d71663b9-3b91-48c5-8257-ddf6792be41f"
      },
      "source": [
        "# **Slicing Window**"
      ]
    },
    {
      "cell_type": "code",
      "execution_count": null,
      "id": "33229e72-6aab-45ca-bdbe-f06d619f2f93",
      "metadata": {
        "id": "33229e72-6aab-45ca-bdbe-f06d619f2f93"
      },
      "outputs": [],
      "source": [
        "time_step = 80\n",
        "offset = 50\n",
        "features = ['sensor', 'key']\n",
        "target = 'activity'\n",
        "\n",
        "X = []\n",
        "y = []\n",
        "for i in range(0 , len(df_Motion)-time_step , offset):\n",
        "    X.append(df_Motion.iloc[i:i+time_step][features])\n",
        "    y.append(df_Motion.iloc[i+time_step][target])\n",
        "X = np.array(X)\n",
        "y = np.array(y)\n",
        "\n",
        "print(X.shape)\n",
        "print(y.shape)"
      ]
    },
    {
      "cell_type": "markdown",
      "source": [
        "# **Split data to train and valid ⚡**"
      ],
      "metadata": {
        "id": "-tqGK_pFkJL9"
      },
      "id": "-tqGK_pFkJL9"
    },
    {
      "cell_type": "code",
      "execution_count": null,
      "id": "d0186321-1201-4eb2-b26c-c275c041fdc6",
      "metadata": {
        "id": "d0186321-1201-4eb2-b26c-c275c041fdc6"
      },
      "outputs": [],
      "source": [
        "X_train = X[:-1000]\n",
        "X_valid = X[-1000:]\n",
        "y_train = y[:-1000]\n",
        "y_valid = y[-1000:]\n",
        "\n",
        "print(X_train.shape)\n",
        "print(y_train.shape)\n",
        "print(X_valid.shape)\n",
        "print(y_valid.shape)"
      ]
    },
    {
      "cell_type": "code",
      "execution_count": null,
      "id": "b69c64c8-7ac9-4d45-a0c4-d154a8fbb00a",
      "metadata": {
        "id": "b69c64c8-7ac9-4d45-a0c4-d154a8fbb00a"
      },
      "outputs": [],
      "source": [
        "X_train = torch.FloatTensor(X_train)\n",
        "X_valid = torch.FloatTensor(X_valid)\n",
        "y_train = torch.LongTensor(y_train)\n",
        "y_valid = torch.LongTensor(y_valid)"
      ]
    },
    {
      "cell_type": "markdown",
      "source": [
        "# **TensorDataset**"
      ],
      "metadata": {
        "id": "Lw5YV36llleA"
      },
      "id": "Lw5YV36llleA"
    },
    {
      "cell_type": "code",
      "execution_count": null,
      "id": "5868c7f3-aeb6-462c-9611-f0ed78a76ecd",
      "metadata": {
        "id": "5868c7f3-aeb6-462c-9611-f0ed78a76ecd"
      },
      "outputs": [],
      "source": [
        "train_set = TensorDataset(X_train, y_train)\n",
        "test_set = TensorDataset(X_valid, y_valid)"
      ]
    },
    {
      "cell_type": "markdown",
      "source": [
        "# **DataLoader**"
      ],
      "metadata": {
        "id": "-N7lIkailvAx"
      },
      "id": "-N7lIkailvAx"
    },
    {
      "cell_type": "code",
      "execution_count": null,
      "id": "7db71ea7-d5c6-4f7e-abdf-a3e0ad91cba7",
      "metadata": {
        "id": "7db71ea7-d5c6-4f7e-abdf-a3e0ad91cba7"
      },
      "outputs": [],
      "source": [
        "train_loader = DataLoader(train_set, batch_size=100, shuffle=True)\n",
        "test_loader = DataLoader(test_set, batch_size=50, shuffle=False)"
      ]
    },
    {
      "cell_type": "code",
      "execution_count": null,
      "id": "b009e093-c1b2-4c93-8d87-6617e6e1ac8a",
      "metadata": {
        "id": "b009e093-c1b2-4c93-8d87-6617e6e1ac8a"
      },
      "outputs": [],
      "source": [
        "x_batch, y_batch = next(iter(train_loader))\n",
        "print(x_batch.shape)\n",
        "print(y_batch.shape)"
      ]
    },
    {
      "cell_type": "markdown",
      "source": [
        "# **Model 🧠**"
      ],
      "metadata": {
        "id": "5zZvyuiml0cR"
      },
      "id": "5zZvyuiml0cR"
    },
    {
      "cell_type": "code",
      "execution_count": null,
      "id": "b848d299-808c-4bf8-b5c8-5fa7838b1c96",
      "metadata": {
        "id": "b848d299-808c-4bf8-b5c8-5fa7838b1c96"
      },
      "outputs": [],
      "source": [
        "class RNNModel(nn.Module):\n",
        "    def __init__(self, RNN, input_size, hidden_size, num_layers, bidirectional, num_cls):\n",
        "        super().__init__()\n",
        "        self.rnn = RNN(input_size=input_size,\n",
        "                          hidden_size=hidden_size,\n",
        "                          num_layers=num_layers,\n",
        "                          bidirectional=bidirectional,\n",
        "                          batch_first=True)\n",
        "\n",
        "        self.dropout = nn.Dropout(p=0.3)\n",
        "\n",
        "        self.fc = nn.LazyLinear(num_cls)\n",
        "\n",
        "    def forward(self, x):\n",
        "        outputs, _ = self.rnn(x)\n",
        "        y = self.fc(outputs[:, -1, :]) # out: many[:, -1, :]\n",
        "        y = self.dropout(y)\n",
        "        return y"
      ]
    },
    {
      "cell_type": "code",
      "execution_count": null,
      "id": "8a496980-372d-4c9e-b647-574af426a6c7",
      "metadata": {
        "id": "8a496980-372d-4c9e-b647-574af426a6c7"
      },
      "outputs": [],
      "source": [
        "model = RNNModel(nn.LSTM, 2, 80, 3, False, 16)\n",
        "model"
      ]
    },
    {
      "cell_type": "code",
      "execution_count": null,
      "id": "bfb2067c-6e67-4cfa-b17a-1095de92c917",
      "metadata": {
        "id": "bfb2067c-6e67-4cfa-b17a-1095de92c917"
      },
      "outputs": [],
      "source": [
        "model(x_batch).shape"
      ]
    },
    {
      "cell_type": "markdown",
      "source": [
        "### **Params**"
      ],
      "metadata": {
        "id": "JYI2LHswl7Rp"
      },
      "id": "JYI2LHswl7Rp"
    },
    {
      "cell_type": "code",
      "execution_count": null,
      "id": "802f78ec-c420-4e0b-92da-29c17867f3d7",
      "metadata": {
        "id": "802f78ec-c420-4e0b-92da-29c17867f3d7"
      },
      "outputs": [],
      "source": [
        "def num_params(model, k=1e6):\n",
        "    nums = sum(p.numel() for p in model.parameters())/k\n",
        "    return nums"
      ]
    },
    {
      "cell_type": "code",
      "execution_count": null,
      "id": "e9e38fff-875a-45c7-bb7d-ac71f1526fcd",
      "metadata": {
        "id": "e9e38fff-875a-45c7-bb7d-ac71f1526fcd"
      },
      "outputs": [],
      "source": [
        "num_params(model, 1e3)"
      ]
    },
    {
      "cell_type": "markdown",
      "source": [
        "# **Device ⚙️**"
      ],
      "metadata": {
        "id": "V0zDJk2JmByk"
      },
      "id": "V0zDJk2JmByk"
    },
    {
      "cell_type": "code",
      "execution_count": null,
      "id": "9f891e7d-6f23-42bd-a259-1274aa7c5de0",
      "metadata": {
        "id": "9f891e7d-6f23-42bd-a259-1274aa7c5de0"
      },
      "outputs": [],
      "source": [
        "device = 'cuda' if torch.cuda.is_available() else 'cpu'\n",
        "device"
      ]
    },
    {
      "cell_type": "markdown",
      "source": [
        "# **Utils 🧰**"
      ],
      "metadata": {
        "id": "UqIvCdM9mDxU"
      },
      "id": "UqIvCdM9mDxU"
    },
    {
      "cell_type": "code",
      "execution_count": null,
      "id": "56f01e92-f0d6-4c71-894f-6549f061d357",
      "metadata": {
        "id": "56f01e92-f0d6-4c71-894f-6549f061d357"
      },
      "outputs": [],
      "source": [
        "class AverageMeter(object):\n",
        "    \"\"\"Computes and stores the average and current value\"\"\"\n",
        "    def __init__(self):\n",
        "        self.reset()\n",
        "\n",
        "    def reset(self):\n",
        "        self.val = 0\n",
        "        self.avg = 0\n",
        "        self.sum = 0\n",
        "        self.count = 0\n",
        "\n",
        "    def update(self, val, n=1):\n",
        "        self.val = val\n",
        "        self.sum += val * n\n",
        "        self.count += n\n",
        "        self.avg = self.sum / self.count"
      ]
    },
    {
      "cell_type": "markdown",
      "source": [
        "# **Functions** 🧮"
      ],
      "metadata": {
        "id": "pFoHfljjmJx-"
      },
      "id": "pFoHfljjmJx-"
    },
    {
      "cell_type": "code",
      "execution_count": null,
      "id": "09e9feaf-22db-48bd-b987-56a02a5df71e",
      "metadata": {
        "id": "09e9feaf-22db-48bd-b987-56a02a5df71e"
      },
      "outputs": [],
      "source": [
        "def train_one_epoch(model, train_loader, loss_fn, optimizer, epoch=None):\n",
        "    model.train()\n",
        "    loss_train = AverageMeter()\n",
        "    acc_train = Accuracy(task='multiclass', num_classes=16).to(device)\n",
        "    with tqdm(train_loader, unit=\"batch\") as tepoch:\n",
        "        for inputs, targets in tepoch:\n",
        "            if epoch is not None:\n",
        "                tepoch.set_description(f\"Epoch {epoch}\")\n",
        "            inputs = inputs.to(device)\n",
        "            targets = targets.to(device)\n",
        "\n",
        "            outputs = model(inputs)\n",
        "\n",
        "            loss = loss_fn(outputs, targets)\n",
        "\n",
        "            loss.backward()\n",
        "            optimizer.step()\n",
        "            optimizer.zero_grad()\n",
        "\n",
        "            loss_train.update(loss.item())\n",
        "            acc_train(outputs, targets.int())\n",
        "            tepoch.set_postfix(loss=loss_train.avg,\n",
        "                         accuracy=100.*acc_train.compute().item())\n",
        "    return model, loss_train.avg, acc_train.compute().item()"
      ]
    },
    {
      "cell_type": "code",
      "execution_count": null,
      "id": "5625bd14-f78c-45d2-ba46-97208efb7342",
      "metadata": {
        "id": "5625bd14-f78c-45d2-ba46-97208efb7342"
      },
      "outputs": [],
      "source": [
        "def validation(model, test_loader, loss_fn):\n",
        "    model.eval()\n",
        "    with torch.no_grad():\n",
        "        loss_valid = AverageMeter()\n",
        "        acc_valid = Accuracy(task='multiclass', num_classes=16).to(device)\n",
        "        for i, (inputs, targets) in enumerate(test_loader):\n",
        "            inputs = inputs.to(device)\n",
        "            targets = targets.to(device)\n",
        "\n",
        "            outputs = model(inputs)\n",
        "            loss = loss_fn(outputs, targets)\n",
        "\n",
        "            loss_valid.update(loss.item())\n",
        "            acc_valid(outputs, targets.int())\n",
        "    return loss_valid.avg, acc_valid.compute().item()"
      ]
    },
    {
      "cell_type": "markdown",
      "source": [
        "# **Efficient way for set hyperparams 🔨**"
      ],
      "metadata": {
        "id": "-CdVwOv4mRfp"
      },
      "id": "-CdVwOv4mRfp"
    },
    {
      "cell_type": "markdown",
      "source": [
        "### Step 1: check forward path\n",
        "\n",
        "Calculate loss for one batch"
      ],
      "metadata": {
        "id": "tZwXXv52mV6_"
      },
      "id": "tZwXXv52mV6_"
    },
    {
      "cell_type": "code",
      "execution_count": null,
      "id": "9eab965f-1cdc-4a76-8bae-2f8d157ff97a",
      "metadata": {
        "id": "9eab965f-1cdc-4a76-8bae-2f8d157ff97a"
      },
      "outputs": [],
      "source": [
        "model = RNNModel(nn.LSTM, 2, 80, 3, False, 16)\n",
        "model.to(device)\n",
        "loss_fn = nn.CrossEntropyLoss()\n",
        "\n",
        "x_batch, y_batch = next(iter(train_loader))\n",
        "outputs = model(x_batch.to(device))\n",
        "loss = loss_fn(outputs, y_batch.to(device))\n",
        "print(loss)"
      ]
    },
    {
      "cell_type": "markdown",
      "source": [
        "### Step 2: check backward path\n",
        "\n",
        "Select 5 random batches and train the model"
      ],
      "metadata": {
        "id": "I2SQRLu4mdbo"
      },
      "id": "I2SQRLu4mdbo"
    },
    {
      "cell_type": "code",
      "execution_count": null,
      "id": "40aff3f7-1164-4353-96a4-6b258b0ee780",
      "metadata": {
        "id": "40aff3f7-1164-4353-96a4-6b258b0ee780"
      },
      "outputs": [],
      "source": [
        "_, mini_train_dataset = random_split(train_set, (len(train_set)-500, 500))\n",
        "mini_train_loader = DataLoader(mini_train_dataset, 20)"
      ]
    },
    {
      "cell_type": "code",
      "execution_count": null,
      "id": "27a9fb26-766b-4d21-b461-2e55c14c8c50",
      "metadata": {
        "id": "27a9fb26-766b-4d21-b461-2e55c14c8c50"
      },
      "outputs": [],
      "source": [
        "model = RNNModel(nn.LSTM, 2, 80, 3, False, 16)\n",
        "model.to(device)\n",
        "loss_fn = nn.CrossEntropyLoss()"
      ]
    },
    {
      "cell_type": "code",
      "execution_count": null,
      "id": "50d8cb2b-ba34-4e85-8222-9c74480f7883",
      "metadata": {
        "id": "50d8cb2b-ba34-4e85-8222-9c74480f7883"
      },
      "outputs": [],
      "source": [
        "optimizer = optim.Adam(model.parameters(), lr=0.001)"
      ]
    },
    {
      "cell_type": "code",
      "execution_count": null,
      "id": "cc7417cf-9b2d-43a1-b832-ee0745d85700",
      "metadata": {
        "id": "cc7417cf-9b2d-43a1-b832-ee0745d85700"
      },
      "outputs": [],
      "source": [
        "num_epochs = 50\n",
        "for epoch in range(num_epochs):\n",
        "    model, _, _ = train_one_epoch(model, mini_train_loader, loss_fn , optimizer, epoch)"
      ]
    },
    {
      "cell_type": "markdown",
      "source": [
        "### Step 3: select best lr\n",
        "\n",
        "Train all data for one epoch"
      ],
      "metadata": {
        "id": "d0L20pYUml35"
      },
      "id": "d0L20pYUml35"
    },
    {
      "cell_type": "code",
      "source": [
        "num_epochs = 5\n",
        "for lr in [0.2, 0.1, 0.01 , 0.001 , 0.0001]:\n",
        "  print(f'LR={lr}')\n",
        "  model = RNNModel(nn.LSTM, 2, 80, 3, False, 16).to(device)\n",
        "  optimizer = optim.Adam(model.parameters(), lr=lr, weight_decay=1e-4)\n",
        "  for epoch in range(num_epochs):\n",
        "    model, _, _ = train_one_epoch(model, train_loader, loss_fn, optimizer, epoch)\n",
        "  print()"
      ],
      "metadata": {
        "id": "sciSqx8ImmjQ"
      },
      "id": "sciSqx8ImmjQ",
      "execution_count": null,
      "outputs": []
    },
    {
      "cell_type": "markdown",
      "source": [
        "### Step 4: small grid (optional)\n",
        "\n",
        "Create a small grid based on the WD and the best LR"
      ],
      "metadata": {
        "id": "evvBD_8onwWq"
      },
      "id": "evvBD_8onwWq"
    },
    {
      "cell_type": "code",
      "source": [
        "num_epochs = 5\n",
        "\n",
        "for lr in [0.0001, 0.0005, 0.001, 0.0015, 0.002]:\n",
        "  for wd in [1e-4, 1e-5, 0.]:\n",
        "    model = RNNModel(nn.LSTM, 2, 80, 3, False, 16).to(device)\n",
        "    optimizer = optim.Adam(model.parameters(), lr=lr, weight_decay=wd)\n",
        "    print(f'LR={lr}, WD={wd}')\n",
        "\n",
        "    for epoch in range(num_epochs):\n",
        "      model, loss, _ = train_one_epoch(model, train_loader, loss_fn, optimizer, epoch)\n",
        "    print()"
      ],
      "metadata": {
        "id": "19bjIz3cnWv8"
      },
      "id": "19bjIz3cnWv8",
      "execution_count": null,
      "outputs": []
    },
    {
      "cell_type": "markdown",
      "source": [
        "### Step 5: train more epochs"
      ],
      "metadata": {
        "id": "CyEM5Mh8ocVv"
      },
      "id": "CyEM5Mh8ocVv"
    },
    {
      "cell_type": "code",
      "source": [
        "model = RNNModel(nn.LSTM, 2, 80, 3, False, 16).to(device)"
      ],
      "metadata": {
        "id": "dmJfAH30oEof"
      },
      "id": "dmJfAH30oEof",
      "execution_count": null,
      "outputs": []
    },
    {
      "cell_type": "code",
      "source": [
        "lr = 0.001\n",
        "wd = 1e-5\n",
        "optimizer = optim.Adam(model.parameters(), lr=lr, weight_decay=wd)\n",
        "loss_fn = nn.CrossEntropyLoss()"
      ],
      "metadata": {
        "id": "iRrPPPyvomEh"
      },
      "id": "iRrPPPyvomEh",
      "execution_count": null,
      "outputs": []
    },
    {
      "cell_type": "code",
      "source": [
        "loss_train_hist = []\n",
        "loss_valid_hist = []\n",
        "\n",
        "acc_train_hist = []\n",
        "acc_valid_hist = []\n",
        "\n",
        "best_loss_valid = torch.inf\n",
        "epoch_counter = 0"
      ],
      "metadata": {
        "id": "hnnKX9Q3opD5"
      },
      "id": "hnnKX9Q3opD5",
      "execution_count": null,
      "outputs": []
    },
    {
      "cell_type": "code",
      "source": [
        "num_epochs = 300\n",
        "\n",
        "for epoch in range(num_epochs):\n",
        "  # Train\n",
        "  model, loss_train, acc_train = train_one_epoch(model,\n",
        "                                                 train_loader,\n",
        "                                                 loss_fn,\n",
        "                                                 optimizer,\n",
        "                                                 epoch)\n",
        "  # Validation\n",
        "  loss_valid, acc_valid = validation(model,\n",
        "                                     test_loader,\n",
        "                                     loss_fn)\n",
        "\n",
        "  loss_train_hist.append(loss_train)\n",
        "  loss_valid_hist.append(loss_valid)\n",
        "\n",
        "  acc_train_hist.append(acc_train)\n",
        "  acc_valid_hist.append(acc_valid)\n",
        "\n",
        "  print(f'Valid: Loss = {loss_valid:.4}, Acc = {acc_valid:.4}')\n",
        "\n",
        "  if loss_valid < best_loss_valid:\n",
        "    torch.save(model, 'model.pt')\n",
        "    best_loss_valid = loss_valid\n",
        "    print('Model Saved!')\n",
        "\n",
        "  print()\n",
        "  epoch_counter += 1"
      ],
      "metadata": {
        "id": "y1QY27l3orMe"
      },
      "id": "y1QY27l3orMe",
      "execution_count": null,
      "outputs": []
    },
    {
      "cell_type": "markdown",
      "source": [
        "## **Plot**"
      ],
      "metadata": {
        "id": "poc983XNpBpN"
      },
      "id": "poc983XNpBpN"
    },
    {
      "cell_type": "code",
      "source": [
        "plt.plot(range(epoch_counter), loss_train_hist, 'r-', label='Train')\n",
        "plt.plot(range(epoch_counter), loss_valid_hist, 'b-', label='Validation')\n",
        "\n",
        "plt.xlabel('Epoch')\n",
        "plt.ylabel('loss')\n",
        "plt.grid(True)\n",
        "plt.legend()"
      ],
      "metadata": {
        "id": "4UpLTIWfoyUS"
      },
      "id": "4UpLTIWfoyUS",
      "execution_count": null,
      "outputs": []
    },
    {
      "cell_type": "code",
      "source": [
        "plt.plot(range(epoch_counter), acc_train_hist, 'r-', label='Train')\n",
        "plt.plot(range(epoch_counter), acc_valid_hist, 'b-', label='Validation')\n",
        "\n",
        "plt.xlabel('Epoch')\n",
        "plt.ylabel('Acc')\n",
        "plt.grid(True)\n",
        "plt.legend()"
      ],
      "metadata": {
        "id": "c5UzzsLipEpI"
      },
      "id": "c5UzzsLipEpI",
      "execution_count": null,
      "outputs": []
    }
  ],
  "metadata": {
    "kernelspec": {
      "display_name": "Python 3",
      "name": "python3"
    },
    "language_info": {
      "codemirror_mode": {
        "name": "ipython",
        "version": 3
      },
      "file_extension": ".py",
      "mimetype": "text/x-python",
      "name": "python",
      "nbconvert_exporter": "python",
      "pygments_lexer": "ipython3",
      "version": "3.7.16"
    },
    "colab": {
      "provenance": [],
      "collapsed_sections": [
        "_YMIFlk4eeui",
        "8gmKwX2CfLDp",
        "VT4UlCjRfec0",
        "Lw5YV36llleA",
        "-N7lIkailvAx",
        "5zZvyuiml0cR",
        "V0zDJk2JmByk",
        "UqIvCdM9mDxU",
        "pFoHfljjmJx-"
      ],
      "gpuType": "T4",
      "include_colab_link": true
    },
    "accelerator": "GPU"
  },
  "nbformat": 4,
  "nbformat_minor": 5
}